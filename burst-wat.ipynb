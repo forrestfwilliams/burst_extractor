{
 "cells": [
  {
   "cell_type": "code",
   "execution_count": null,
   "metadata": {},
   "outputs": [],
   "source": [
    "import numpy as np\n",
    "import rasterio.plot\n",
    "import matplotlib.pyplot as plt\n",
    "from matplotlib.patches import Rectangle\n",
    "from collections import namedtuple\n",
    "import numpy as np\n",
    "from lxml import etree\n",
    "\n",
    "\n",
    "from burst_translator import BurstMetadata\n",
    "\n",
    "swath_tif = 'S1A_IW_SLC__1SDV_20200616T022252_20200616T022319_033036_03D3A3_5D11.SAFE/measurement/s1a-iw1-slc-vh-20200616t022253-20200616t022318-033036-03d3a3-001.tiff'\n",
    "swath_ann = 'S1A_IW_SLC__1SDV_20200616T022252_20200616T022319_033036_03D3A3_5D11.SAFE/annotation/s1a-iw1-slc-vh-20200616t022253-20200616t022318-033036-03d3a3-001.xml'"
   ]
  },
  {
   "cell_type": "code",
   "execution_count": null,
   "metadata": {},
   "outputs": [],
   "source": [
    "offsets = namedtuple('offsets', 'start end')\n",
    "\n",
    "# annotation xml\n",
    "tree = etree.parse(swath_ann)\n",
    "\n",
    "# number of lines in each burst\n",
    "frame_lines = int(tree.xpath('./swathTiming/linesPerBurst/text()')[0])\n",
    "\n",
    "burst_elements = tree.xpath('./swathTiming/burstList/burst')\n"
   ]
  },
  {
   "cell_type": "code",
   "execution_count": null,
   "metadata": {},
   "outputs": [],
   "source": [
    "def jason_get_bounds(index, burst):\n",
    "    # all offsets, even invalid offsets\n",
    "    offsets_range = offsets(\n",
    "        np.array([int(val) for val in burst.xpath('firstValidSample/text()')[0].split()]),\n",
    "        np.array([int(val) for val in burst.xpath('lastValidSample/text()')[0].split()]),\n",
    "    )\n",
    "\n",
    "    # returns the indices of lines containing valid data\n",
    "    lines_with_valid_data = np.flatnonzero(offsets_range.end - offsets_range.start)\n",
    "\n",
    "    # get first and last sample with valid data per line\n",
    "    # x-axis, range\n",
    "    valid_offsets_range = offsets(\n",
    "        offsets_range.start[lines_with_valid_data].min(),\n",
    "        offsets_range.end[lines_with_valid_data].max(),\n",
    "    )\n",
    "\n",
    "    # get the first and last line with valid data\n",
    "    # y-axis, azimuth\n",
    "    valid_offsets_azimuth = offsets(\n",
    "        lines_with_valid_data.min(),\n",
    "        lines_with_valid_data.max(),\n",
    "    )\n",
    "\n",
    "    # x-length\n",
    "    length_range = valid_offsets_range.end - valid_offsets_range.start\n",
    "    # y-length\n",
    "    length_azimuth = len(lines_with_valid_data)\n",
    "\n",
    "    # n-th burst * total lines + first azimuth\n",
    "    # y-offset\n",
    "    azimuth_start = index * frame_lines + valid_offsets_azimuth.start\n",
    " \n",
    "    # [x-offset, y-offset, x-length, y-length]\n",
    "    # window = [valid_offsets_range.start, azimuth_start, length_range, length_azimuth]\n",
    "    return valid_offsets_range.start, azimuth_start, length_range, length_azimuth"
   ]
  },
  {
   "cell_type": "code",
   "execution_count": null,
   "metadata": {},
   "outputs": [],
   "source": [
    "isce_patches = []\n",
    "jsn_patches = []\n",
    "for ii, be in enumerate(burst_elements):\n",
    "    burst = BurstMetadata(swath_tif, swath_ann, ii)\n",
    "    x1, x2, y1, y2 = burst.get_bounds()\n",
    "    w = x2-x1\n",
    "    h = y2-y1+1  # FIXME: Correct?\n",
    "    isce_patches.append(Rectangle((x1, y1), w, h, facecolor='none', edgecolor='Red'))\n",
    "    isce_bounds = [x1, y1, w, h]\n",
    "    \n",
    "    jsn_bounds = jason_get_bounds(ii, be)\n",
    "    x1, y1, w, h = jsn_bounds\n",
    "    jsn_patches.append(Rectangle((x1, y1), w, h, facecolor='none', edgecolor='Yellow'))    "
   ]
  },
  {
   "cell_type": "code",
   "execution_count": null,
   "metadata": {},
   "outputs": [],
   "source": [
    "with rasterio.open(swath_tif) as swath:\n",
    "    swath_data = swath.read()\n",
    "magnitude = np.abs(swath_data)"
   ]
  },
  {
   "cell_type": "code",
   "execution_count": null,
   "metadata": {},
   "outputs": [],
   "source": [
    "%matplotlib widget\n",
    "fig, ax = plt.subplots(1, 1)\n",
    "rasterio.plot.show(magnitude, ax=ax, vmin=0, vmax=250, cmap='viridis')\n",
    "\n",
    "ax.set(xlabel='Range', ylabel='Azimuth')\n",
    "ax.invert_yaxis()\n",
    "\n",
    "for jr, ir in zip(jsn_patches, isce_patches):\n",
    "    ax.add_patch(ir)\n",
    "    ax.add_patch(jr)"
   ]
  },
  {
   "cell_type": "code",
   "execution_count": null,
   "metadata": {},
   "outputs": [],
   "source": []
  }
 ],
 "metadata": {
  "kernelspec": {
   "display_name": "Python 3 (ipykernel)",
   "language": "python",
   "name": "python3"
  },
  "language_info": {
   "codemirror_mode": {
    "name": "ipython",
    "version": 3
   },
   "file_extension": ".py",
   "mimetype": "text/x-python",
   "name": "python",
   "nbconvert_exporter": "python",
   "pygments_lexer": "ipython3",
   "version": "3.11.0"
  }
 },
 "nbformat": 4,
 "nbformat_minor": 4
}
